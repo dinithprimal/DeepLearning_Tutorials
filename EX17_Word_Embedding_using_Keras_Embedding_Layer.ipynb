{
  "nbformat": 4,
  "nbformat_minor": 0,
  "metadata": {
    "colab": {
      "provenance": [],
      "authorship_tag": "ABX9TyO87nvmB6+dePBaDtwe6PcK",
      "include_colab_link": true
    },
    "kernelspec": {
      "name": "python3",
      "display_name": "Python 3"
    },
    "language_info": {
      "name": "python"
    }
  },
  "cells": [
    {
      "cell_type": "markdown",
      "metadata": {
        "id": "view-in-github",
        "colab_type": "text"
      },
      "source": [
        "<a href=\"https://colab.research.google.com/github/dinithprimal/DeepLearning_Tutorials/blob/main/EX17_Word_Embedding_using_Keras_Embedding_Layer.ipynb\" target=\"_parent\"><img src=\"https://colab.research.google.com/assets/colab-badge.svg\" alt=\"Open In Colab\"/></a>"
      ]
    },
    {
      "cell_type": "code",
      "execution_count": 11,
      "metadata": {
        "id": "6bwLr5IGpoX6"
      },
      "outputs": [],
      "source": [
        "import numpy as np\n",
        "from tensorflow.keras.preprocessing.text import one_hot\n",
        "from tensorflow.keras.preprocessing.sequence import pad_sequences\n",
        "from tensorflow.keras.models import Sequential\n",
        "from tensorflow.keras.layers import Dense\n",
        "from tensorflow.keras.layers import Flatten\n",
        "from tensorflow.keras.layers import Embedding"
      ]
    },
    {
      "cell_type": "code",
      "source": [
        "reviews = ['nice food',\n",
        "           'amazing restaurent',\n",
        "           'too good',\n",
        "           'just love it!',\n",
        "           'will go again',\n",
        "           'horrible food',\n",
        "           'never go there',\n",
        "           'poor services',\n",
        "           'poor quality',\n",
        "           'needs improvement']\n",
        "\n",
        "sentiment = np.array([1,1,1,1,1,0,0,0,0,0])"
      ],
      "metadata": {
        "id": "bP9KDzgCqP01"
      },
      "execution_count": 12,
      "outputs": []
    },
    {
      "cell_type": "markdown",
      "source": [
        "## One Hot Encoding"
      ],
      "metadata": {
        "id": "IdZ85uzxz-WZ"
      }
    },
    {
      "cell_type": "code",
      "source": [
        "one_hot('amazing restautrent', 30)"
      ],
      "metadata": {
        "colab": {
          "base_uri": "https://localhost:8080/"
        },
        "id": "tmvNZkWQ0TxI",
        "outputId": "3684b548-1777-40f0-9548-943f41d55d93"
      },
      "execution_count": 13,
      "outputs": [
        {
          "output_type": "execute_result",
          "data": {
            "text/plain": [
              "[15, 15]"
            ]
          },
          "metadata": {},
          "execution_count": 13
        }
      ]
    },
    {
      "cell_type": "code",
      "source": [
        "vocab_size = 30\n",
        "\n",
        "encoded_reviews = [one_hot(d, vocab_size) for d in reviews]\n",
        "print(encoded_reviews)"
      ],
      "metadata": {
        "colab": {
          "base_uri": "https://localhost:8080/"
        },
        "id": "thfyETxK0Z1a",
        "outputId": "c1722dcb-ccca-490a-8241-48f7a7143c07"
      },
      "execution_count": 14,
      "outputs": [
        {
          "output_type": "stream",
          "name": "stdout",
          "text": [
            "[[20, 10], [15, 12], [6, 27], [22, 6, 22], [22, 26, 10], [22, 10], [26, 26, 23], [8, 19], [8, 11], [14, 3]]\n"
          ]
        }
      ]
    },
    {
      "cell_type": "code",
      "source": [
        "max_length = 3\n",
        "\n",
        "padded_reviews = pad_sequences(encoded_reviews, maxlen=max_length, padding='post')\n",
        "print(padded_reviews)"
      ],
      "metadata": {
        "colab": {
          "base_uri": "https://localhost:8080/"
        },
        "id": "SALxap5a0t2q",
        "outputId": "27e59a84-1e2a-4502-fb0b-d0fcfadd4981"
      },
      "execution_count": 24,
      "outputs": [
        {
          "output_type": "stream",
          "name": "stdout",
          "text": [
            "[[20 10  0]\n",
            " [15 12  0]\n",
            " [ 6 27  0]\n",
            " [22  6 22]\n",
            " [22 26 10]\n",
            " [22 10  0]\n",
            " [26 26 23]\n",
            " [ 8 19  0]\n",
            " [ 8 11  0]\n",
            " [14  3  0]]\n"
          ]
        }
      ]
    },
    {
      "cell_type": "markdown",
      "source": [
        "### Embedded Vector"
      ],
      "metadata": {
        "id": "RnMz84N01e0I"
      }
    },
    {
      "cell_type": "code",
      "source": [
        "embedded_vector_size = 4\n",
        "\n",
        "model = Sequential()\n",
        "model.add(Embedding(vocab_size, embedded_vector_size, input_length=max_length, name='embedding'))\n",
        "model.add(Flatten())\n",
        "model.add(Dense(1, activation='sigmoid'))"
      ],
      "metadata": {
        "id": "qMKOkHk81qu7"
      },
      "execution_count": 25,
      "outputs": []
    },
    {
      "cell_type": "code",
      "source": [
        "X = padded_reviews\n",
        "y = sentiment"
      ],
      "metadata": {
        "id": "ua59tSzE2iRj"
      },
      "execution_count": 26,
      "outputs": []
    },
    {
      "cell_type": "code",
      "source": [
        "model.compile(\n",
        "    optimizer='adam',\n",
        "    loss='binary_crossentropy',\n",
        "    metrics=['accuracy']\n",
        ")\n",
        "\n",
        "model.summary()"
      ],
      "metadata": {
        "colab": {
          "base_uri": "https://localhost:8080/"
        },
        "id": "_L_9HCVJ3mkL",
        "outputId": "a3b7cfb3-efc3-489a-8fd7-783ec8de10e1"
      },
      "execution_count": 27,
      "outputs": [
        {
          "output_type": "stream",
          "name": "stdout",
          "text": [
            "Model: \"sequential_3\"\n",
            "_________________________________________________________________\n",
            " Layer (type)                Output Shape              Param #   \n",
            "=================================================================\n",
            " embedding (Embedding)       (None, 3, 4)              120       \n",
            "                                                                 \n",
            " flatten_3 (Flatten)         (None, 12)                0         \n",
            "                                                                 \n",
            " dense_2 (Dense)             (None, 1)                 13        \n",
            "                                                                 \n",
            "=================================================================\n",
            "Total params: 133 (532.00 Byte)\n",
            "Trainable params: 133 (532.00 Byte)\n",
            "Non-trainable params: 0 (0.00 Byte)\n",
            "_________________________________________________________________\n"
          ]
        }
      ]
    },
    {
      "cell_type": "code",
      "source": [
        "model.fit(X, y, epochs=50, verbose=0)"
      ],
      "metadata": {
        "colab": {
          "base_uri": "https://localhost:8080/"
        },
        "id": "Iu5LPP9H36i2",
        "outputId": "ff917397-dd91-47c2-d994-8aaf83435429"
      },
      "execution_count": 28,
      "outputs": [
        {
          "output_type": "execute_result",
          "data": {
            "text/plain": [
              "<keras.src.callbacks.History at 0x7b41a6708fd0>"
            ]
          },
          "metadata": {},
          "execution_count": 28
        }
      ]
    },
    {
      "cell_type": "code",
      "source": [
        "weights = model.get_layer('embedding').get_weights()[0]\n",
        "len(weights)"
      ],
      "metadata": {
        "colab": {
          "base_uri": "https://localhost:8080/"
        },
        "id": "HR6DM8fy4iUs",
        "outputId": "3c54455d-e949-4f39-a89b-4ff72dafe1bc"
      },
      "execution_count": 29,
      "outputs": [
        {
          "output_type": "execute_result",
          "data": {
            "text/plain": [
              "30"
            ]
          },
          "metadata": {},
          "execution_count": 29
        }
      ]
    },
    {
      "cell_type": "code",
      "source": [],
      "metadata": {
        "id": "yIj1bjXZ5PDl"
      },
      "execution_count": null,
      "outputs": []
    },
    {
      "cell_type": "code",
      "source": [
        "# Word \"nice\" weights\n",
        "weights[20]"
      ],
      "metadata": {
        "colab": {
          "base_uri": "https://localhost:8080/"
        },
        "id": "BcJ6Kmfr5JbD",
        "outputId": "97fb735a-41bf-40ed-84a5-2a8ca26afa53"
      },
      "execution_count": 30,
      "outputs": [
        {
          "output_type": "execute_result",
          "data": {
            "text/plain": [
              "array([-0.07836847,  0.03326798, -0.07038449, -0.04835618], dtype=float32)"
            ]
          },
          "metadata": {},
          "execution_count": 30
        }
      ]
    },
    {
      "cell_type": "code",
      "source": [
        "# Word \"amazing\" weights\n",
        "weights[15]"
      ],
      "metadata": {
        "colab": {
          "base_uri": "https://localhost:8080/"
        },
        "id": "uYtMuS9d5VJP",
        "outputId": "1f23c2f4-0391-48cb-ec62-80ab1fd3a3eb"
      },
      "execution_count": 31,
      "outputs": [
        {
          "output_type": "execute_result",
          "data": {
            "text/plain": [
              "array([-0.06122058,  0.0786567 , -0.08000238, -0.06264515], dtype=float32)"
            ]
          },
          "metadata": {},
          "execution_count": 31
        }
      ]
    },
    {
      "cell_type": "code",
      "source": [
        "# Word \"poor\" weights\n",
        "weights[8]"
      ],
      "metadata": {
        "colab": {
          "base_uri": "https://localhost:8080/"
        },
        "id": "_7ptHFiY5akP",
        "outputId": "181ff37d-872a-4564-9ac2-2011cf0b700e"
      },
      "execution_count": 32,
      "outputs": [
        {
          "output_type": "execute_result",
          "data": {
            "text/plain": [
              "array([ 0.05245402, -0.05716141,  0.05796015,  0.0657612 ], dtype=float32)"
            ]
          },
          "metadata": {},
          "execution_count": 32
        }
      ]
    },
    {
      "cell_type": "code",
      "source": [],
      "metadata": {
        "id": "DKgFOjOn5vnH"
      },
      "execution_count": null,
      "outputs": []
    }
  ]
}