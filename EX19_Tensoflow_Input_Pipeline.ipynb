{
  "nbformat": 4,
  "nbformat_minor": 0,
  "metadata": {
    "colab": {
      "provenance": [],
      "authorship_tag": "ABX9TyNNKyn5wDj1cvt6uuROi8ED",
      "include_colab_link": true
    },
    "kernelspec": {
      "name": "python3",
      "display_name": "Python 3"
    },
    "language_info": {
      "name": "python"
    }
  },
  "cells": [
    {
      "cell_type": "markdown",
      "metadata": {
        "id": "view-in-github",
        "colab_type": "text"
      },
      "source": [
        "<a href=\"https://colab.research.google.com/github/dinithprimal/DeepLearning_Tutorials/blob/main/EX19_Tensoflow_Input_Pipeline.ipynb\" target=\"_parent\"><img src=\"https://colab.research.google.com/assets/colab-badge.svg\" alt=\"Open In Colab\"/></a>"
      ]
    },
    {
      "cell_type": "code",
      "execution_count": null,
      "metadata": {
        "id": "A1NmHcS_uF6F"
      },
      "outputs": [],
      "source": [
        "import tensorflow as tf"
      ]
    },
    {
      "cell_type": "markdown",
      "source": [
        "## Simple Tensorflow dataset"
      ],
      "metadata": {
        "id": "dzIESm6fuROT"
      }
    },
    {
      "cell_type": "code",
      "source": [
        "daily_sales_numbers = [21, 22, -108, 31, -1, 32, 34, 31]"
      ],
      "metadata": {
        "id": "YukXYdByuVqh"
      },
      "execution_count": null,
      "outputs": []
    },
    {
      "cell_type": "code",
      "source": [
        "tf_dataset = tf.data.Dataset.from_tensor_slices(daily_sales_numbers)\n",
        "tf_dataset"
      ],
      "metadata": {
        "colab": {
          "base_uri": "https://localhost:8080/"
        },
        "id": "uvzaag9JudsS",
        "outputId": "f9d0b590-c0f4-43c5-d02e-dee9437ec6c0"
      },
      "execution_count": null,
      "outputs": [
        {
          "output_type": "execute_result",
          "data": {
            "text/plain": [
              "<_TensorSliceDataset element_spec=TensorSpec(shape=(), dtype=tf.int32, name=None)>"
            ]
          },
          "metadata": {},
          "execution_count": 3
        }
      ]
    },
    {
      "cell_type": "code",
      "source": [
        "for sales in tf_dataset:\n",
        "  print(sales)"
      ],
      "metadata": {
        "colab": {
          "base_uri": "https://localhost:8080/"
        },
        "id": "ksI_WpnauyWF",
        "outputId": "a52ea2dd-141e-40de-a195-706228a56c50"
      },
      "execution_count": null,
      "outputs": [
        {
          "output_type": "stream",
          "name": "stdout",
          "text": [
            "tf.Tensor(21, shape=(), dtype=int32)\n",
            "tf.Tensor(22, shape=(), dtype=int32)\n",
            "tf.Tensor(-108, shape=(), dtype=int32)\n",
            "tf.Tensor(31, shape=(), dtype=int32)\n",
            "tf.Tensor(-1, shape=(), dtype=int32)\n",
            "tf.Tensor(32, shape=(), dtype=int32)\n",
            "tf.Tensor(34, shape=(), dtype=int32)\n",
            "tf.Tensor(31, shape=(), dtype=int32)\n"
          ]
        }
      ]
    },
    {
      "cell_type": "code",
      "source": [
        "for sales in tf_dataset:\n",
        "  print(sales.numpy())"
      ],
      "metadata": {
        "colab": {
          "base_uri": "https://localhost:8080/"
        },
        "id": "w-vK1UN8u8jU",
        "outputId": "e1862275-b17c-478b-fc4f-df872424d0e8"
      },
      "execution_count": null,
      "outputs": [
        {
          "output_type": "stream",
          "name": "stdout",
          "text": [
            "21\n",
            "22\n",
            "-108\n",
            "31\n",
            "-1\n",
            "32\n",
            "34\n",
            "31\n"
          ]
        }
      ]
    },
    {
      "cell_type": "code",
      "source": [
        "for sales in tf_dataset.as_numpy_iterator():\n",
        "  print(sales)"
      ],
      "metadata": {
        "colab": {
          "base_uri": "https://localhost:8080/"
        },
        "id": "uFlnechDvDeg",
        "outputId": "db166e99-106c-4543-d637-bb66e8eeeca9"
      },
      "execution_count": null,
      "outputs": [
        {
          "output_type": "stream",
          "name": "stdout",
          "text": [
            "21\n",
            "22\n",
            "-108\n",
            "31\n",
            "-1\n",
            "32\n",
            "34\n",
            "31\n"
          ]
        }
      ]
    },
    {
      "cell_type": "code",
      "source": [
        "for sales in tf_dataset.take(3):\n",
        "  print(sales.numpy())"
      ],
      "metadata": {
        "colab": {
          "base_uri": "https://localhost:8080/"
        },
        "id": "o86pWM9ZvNDo",
        "outputId": "c235b748-44c0-4f19-c1d2-b7f349812e81"
      },
      "execution_count": null,
      "outputs": [
        {
          "output_type": "stream",
          "name": "stdout",
          "text": [
            "21\n",
            "22\n",
            "-108\n"
          ]
        }
      ]
    },
    {
      "cell_type": "code",
      "source": [
        "tf_dataset = tf_dataset.filter(lambda x: x>0)\n",
        "\n",
        "for sales in tf_dataset.as_numpy_iterator():\n",
        "  print(sales)"
      ],
      "metadata": {
        "colab": {
          "base_uri": "https://localhost:8080/"
        },
        "id": "g5cdqUfxwmT7",
        "outputId": "834d0513-af94-448b-8d44-f18c8a29fb45"
      },
      "execution_count": null,
      "outputs": [
        {
          "output_type": "stream",
          "name": "stdout",
          "text": [
            "21\n",
            "22\n",
            "31\n",
            "32\n",
            "34\n",
            "31\n"
          ]
        }
      ]
    },
    {
      "cell_type": "code",
      "source": [
        "tf_dataset = tf_dataset.map(lambda x: x*360)\n",
        "\n",
        "for sales in tf_dataset.as_numpy_iterator():\n",
        "  print(sales)"
      ],
      "metadata": {
        "colab": {
          "base_uri": "https://localhost:8080/"
        },
        "id": "mIxXcubMw9Nw",
        "outputId": "8376d4c8-2e5e-4a44-c670-f24dbd0b56f9"
      },
      "execution_count": null,
      "outputs": [
        {
          "output_type": "stream",
          "name": "stdout",
          "text": [
            "7560\n",
            "7920\n",
            "11160\n",
            "11520\n",
            "12240\n",
            "11160\n"
          ]
        }
      ]
    },
    {
      "cell_type": "code",
      "source": [
        "tf_dataset = tf_dataset.shuffle(3)\n",
        "\n",
        "for sales in tf_dataset.as_numpy_iterator():\n",
        "  print(sales)"
      ],
      "metadata": {
        "colab": {
          "base_uri": "https://localhost:8080/"
        },
        "id": "bQlwMIekxQOc",
        "outputId": "770adf0d-08eb-4cb5-d49e-557ae6445dd5"
      },
      "execution_count": null,
      "outputs": [
        {
          "output_type": "stream",
          "name": "stdout",
          "text": [
            "7920\n",
            "11160\n",
            "7560\n",
            "11160\n",
            "11520\n",
            "12240\n"
          ]
        }
      ]
    },
    {
      "cell_type": "code",
      "source": [
        "for sales_batch in tf_dataset.batch(2):\n",
        "  print(sales_batch.numpy())"
      ],
      "metadata": {
        "colab": {
          "base_uri": "https://localhost:8080/"
        },
        "id": "frlEb9r8xmR5",
        "outputId": "d2668c21-5eb4-48cf-f06f-befe5b2b8b24"
      },
      "execution_count": null,
      "outputs": [
        {
          "output_type": "stream",
          "name": "stdout",
          "text": [
            "[11160  7560]\n",
            "[11520 11160]\n",
            "[ 7920 12240]\n"
          ]
        }
      ]
    },
    {
      "cell_type": "code",
      "source": [
        "tf_dataset = tf.data.Dataset.from_tensor_slices(daily_sales_numbers)\n",
        "\n",
        "# Input Data Pipelining\n",
        "tf_dataset = tf_dataset.filter(lambda x: x>0).map(lambda y: y*360).shuffle(3).batch(2)\n",
        "\n",
        "for sales_batch in tf_dataset.as_numpy_iterator():\n",
        "  print(sales_batch)"
      ],
      "metadata": {
        "colab": {
          "base_uri": "https://localhost:8080/"
        },
        "id": "rSbF7moUx2Dh",
        "outputId": "eed44830-5bd4-4956-da63-7e565b402a6f"
      },
      "execution_count": null,
      "outputs": [
        {
          "output_type": "stream",
          "name": "stdout",
          "text": [
            "[11160  7560]\n",
            "[12240  7920]\n",
            "[11520 11160]\n"
          ]
        }
      ]
    },
    {
      "cell_type": "code",
      "source": [
        "images_ds = tf.data.Dataset.list_files('Images/*/*', shuffle=False)\n",
        "\n",
        "for file in images_ds.take(3):\n",
        "  print(file.numpy())"
      ],
      "metadata": {
        "id": "25leuSCkypHc",
        "colab": {
          "base_uri": "https://localhost:8080/"
        },
        "outputId": "954e1622-9a77-4644-cb03-d2a4c678476a"
      },
      "execution_count": 16,
      "outputs": [
        {
          "output_type": "stream",
          "name": "stdout",
          "text": [
            "b'Images/Cat/01h84ks8b3kn95ybj78q.jpg'\n",
            "b'Images/Cat/27gingercat0611.jpg'\n",
            "b'Images/Cat/437FC169-B9A1-4D56-AD1C2C5B95435970_source.jpg'\n"
          ]
        }
      ]
    },
    {
      "cell_type": "code",
      "source": [
        "images_ds = images_ds.shuffle(200)\n",
        "\n",
        "for file in images_ds.take(3):\n",
        "  print(file.numpy())"
      ],
      "metadata": {
        "colab": {
          "base_uri": "https://localhost:8080/"
        },
        "id": "GwLdVLrn6j-g",
        "outputId": "479d3ad6-5fc7-4801-c459-7e2db42b0914"
      },
      "execution_count": 17,
      "outputs": [
        {
          "output_type": "stream",
          "name": "stdout",
          "text": [
            "b'Images/Dog/7f6a5603-e95a-4364-899c-6b60ab293c10-VPC_BOBI_THE_OLDEST_DOG_2023.00_00_01_15.Still001.jpg'\n",
            "b'Images/Cat/01h84ks8b3kn95ybj78q.jpg'\n",
            "b'Images/Cat/tabby_cat_in_the_garden.jpg'\n"
          ]
        }
      ]
    },
    {
      "cell_type": "code",
      "source": [
        "class_names = ['cat', 'dog']"
      ],
      "metadata": {
        "id": "O2VHyrud9XuT"
      },
      "execution_count": 18,
      "outputs": []
    },
    {
      "cell_type": "code",
      "source": [
        "image_count = len(images_ds)\n",
        "image_count"
      ],
      "metadata": {
        "colab": {
          "base_uri": "https://localhost:8080/"
        },
        "id": "wSZAGIPs9fdi",
        "outputId": "880c4ddc-2a35-461b-d241-87d58d7cdd9a"
      },
      "execution_count": 19,
      "outputs": [
        {
          "output_type": "execute_result",
          "data": {
            "text/plain": [
              "29"
            ]
          },
          "metadata": {},
          "execution_count": 19
        }
      ]
    },
    {
      "cell_type": "code",
      "source": [
        "train_size = int(image_count*0.8)\n",
        "\n",
        "train_ds = images_ds.take(train_size)\n",
        "test_ds = images_ds.skip(train_size)"
      ],
      "metadata": {
        "id": "eT-0TcDy9n5q"
      },
      "execution_count": 20,
      "outputs": []
    },
    {
      "cell_type": "code",
      "source": [
        "len(train_ds)"
      ],
      "metadata": {
        "colab": {
          "base_uri": "https://localhost:8080/"
        },
        "id": "r6ZUjyaL-5o2",
        "outputId": "b47706e4-97fa-49f0-bec0-34c846028a96"
      },
      "execution_count": 21,
      "outputs": [
        {
          "output_type": "execute_result",
          "data": {
            "text/plain": [
              "23"
            ]
          },
          "metadata": {},
          "execution_count": 21
        }
      ]
    },
    {
      "cell_type": "code",
      "source": [
        "len(test_ds)"
      ],
      "metadata": {
        "colab": {
          "base_uri": "https://localhost:8080/"
        },
        "id": "6zB-IalU-8_O",
        "outputId": "a9d21b1e-a328-4e6d-da44-bd17932d1266"
      },
      "execution_count": 22,
      "outputs": [
        {
          "output_type": "execute_result",
          "data": {
            "text/plain": [
              "6"
            ]
          },
          "metadata": {},
          "execution_count": 22
        }
      ]
    },
    {
      "cell_type": "code",
      "source": [
        "s = 'Images/Cat/01h84ks8b3kn95ybj78q.jpg'\n",
        "\n",
        "s.split('/')[-2]"
      ],
      "metadata": {
        "colab": {
          "base_uri": "https://localhost:8080/",
          "height": 36
        },
        "id": "6BEYYP-O_BDK",
        "outputId": "0275fa86-d34a-4f6a-f543-d4a5dee99541"
      },
      "execution_count": 25,
      "outputs": [
        {
          "output_type": "execute_result",
          "data": {
            "text/plain": [
              "'Cat'"
            ],
            "application/vnd.google.colaboratory.intrinsic+json": {
              "type": "string"
            }
          },
          "metadata": {},
          "execution_count": 25
        }
      ]
    },
    {
      "cell_type": "code",
      "source": [
        "def get_label(file_path):\n",
        "  import os\n",
        "  return tf.strings.split(file_path, os.path.sep)[-2] #file_path.split('/')[-2]"
      ],
      "metadata": {
        "id": "8y6r9217HL7r"
      },
      "execution_count": 28,
      "outputs": []
    },
    {
      "cell_type": "code",
      "source": [
        "def process_image(file_path):\n",
        "  label = get_label(file_path)\n",
        "\n",
        "  img = tf.io.read_file(file_path)\n",
        "  img = tf.image.decode_jpeg(img)\n",
        "  img = tf.image.resize(img, [128, 128])\n",
        "\n",
        "  return img, label"
      ],
      "metadata": {
        "id": "Sk0_Lnu6If4A"
      },
      "execution_count": 30,
      "outputs": []
    },
    {
      "cell_type": "code",
      "source": [
        "for t in train_ds.take(4):\n",
        "  print(t.numpy())"
      ],
      "metadata": {
        "colab": {
          "base_uri": "https://localhost:8080/"
        },
        "id": "ljseubt_H22y",
        "outputId": "0a1b9473-2863-49a4-d7d0-8dc5170fcdbf"
      },
      "execution_count": 27,
      "outputs": [
        {
          "output_type": "stream",
          "name": "stdout",
          "text": [
            "b'Images/Cat/98637594.jpg'\n",
            "b'Images/Dog/dog-4615198_1280_1701927561029_1701927572424.jpg'\n",
            "b'Images/Cat/6Cat-Alamy.jpg'\n",
            "b'Images/Cat/reddit-cats-judging-looks-00.jpg'\n"
          ]
        }
      ]
    },
    {
      "cell_type": "code",
      "source": [
        "for label in train_ds.map(get_label):\n",
        "  print(label)"
      ],
      "metadata": {
        "colab": {
          "base_uri": "https://localhost:8080/"
        },
        "id": "lhdarVtnH9Zt",
        "outputId": "72e859fe-8685-40ac-c31e-2c4d52d6b0e6"
      },
      "execution_count": 29,
      "outputs": [
        {
          "output_type": "stream",
          "name": "stdout",
          "text": [
            "tf.Tensor(b'Dog', shape=(), dtype=string)\n",
            "tf.Tensor(b'Cat', shape=(), dtype=string)\n",
            "tf.Tensor(b'Cat', shape=(), dtype=string)\n",
            "tf.Tensor(b'Dog', shape=(), dtype=string)\n",
            "tf.Tensor(b'Cat', shape=(), dtype=string)\n",
            "tf.Tensor(b'Cat', shape=(), dtype=string)\n",
            "tf.Tensor(b'Dog', shape=(), dtype=string)\n",
            "tf.Tensor(b'Cat', shape=(), dtype=string)\n",
            "tf.Tensor(b'Cat', shape=(), dtype=string)\n",
            "tf.Tensor(b'Dog', shape=(), dtype=string)\n",
            "tf.Tensor(b'Cat', shape=(), dtype=string)\n",
            "tf.Tensor(b'Cat', shape=(), dtype=string)\n",
            "tf.Tensor(b'Cat', shape=(), dtype=string)\n",
            "tf.Tensor(b'Cat', shape=(), dtype=string)\n",
            "tf.Tensor(b'Dog', shape=(), dtype=string)\n",
            "tf.Tensor(b'Dog', shape=(), dtype=string)\n",
            "tf.Tensor(b'Cat', shape=(), dtype=string)\n",
            "tf.Tensor(b'Dog', shape=(), dtype=string)\n",
            "tf.Tensor(b'Cat', shape=(), dtype=string)\n",
            "tf.Tensor(b'Dog', shape=(), dtype=string)\n",
            "tf.Tensor(b'Dog', shape=(), dtype=string)\n",
            "tf.Tensor(b'Cat', shape=(), dtype=string)\n",
            "tf.Tensor(b'Dog', shape=(), dtype=string)\n"
          ]
        }
      ]
    },
    {
      "cell_type": "code",
      "source": [
        "train_ds = train_ds.map(process_image)\n",
        "\n",
        "for img, label in train_ds.take(3):\n",
        "  print(\"Image: \", img)\n",
        "  print(\"Label: \", label)"
      ],
      "metadata": {
        "colab": {
          "base_uri": "https://localhost:8080/"
        },
        "id": "wQRtrBeNIVzL",
        "outputId": "ddb6da89-b9ba-4109-957b-51ef18989a7b"
      },
      "execution_count": 35,
      "outputs": [
        {
          "output_type": "stream",
          "name": "stdout",
          "text": [
            "Image:  tf.Tensor(\n",
            "[[[ 49.1875    39.8125    44.695312]\n",
            "  [ 75.390625  43.79297   60.0625  ]\n",
            "  [ 87.85156   56.07422   71.0625  ]\n",
            "  ...\n",
            "  [241.30078  193.125    190.875   ]\n",
            "  [252.35547  205.875    208.875   ]\n",
            "  [252.88281  207.1875   207.33984 ]]\n",
            "\n",
            " [[ 44.51953   41.64453   42.64453 ]\n",
            "  [ 65.81641   60.691406  61.128906]\n",
            "  [120.57031  108.33984  103.69531 ]\n",
            "  ...\n",
            "  [235.77734  172.90234  167.90234 ]\n",
            "  [253.1211   202.36719  200.49219 ]\n",
            "  [253.01953  203.10547  207.01953 ]]\n",
            "\n",
            " [[ 42.82422   41.82422   39.82422 ]\n",
            "  [ 44.695312  45.285156  38.492188]\n",
            "  [ 87.41797   86.99609   77.125   ]\n",
            "  ...\n",
            "  [216.2539   149.2461   130.08203 ]\n",
            "  [232.       161.35547  147.125   ]\n",
            "  [234.97266  171.13672  162.36328 ]]\n",
            "\n",
            " ...\n",
            "\n",
            " [[123.23828  120.86328  108.05078 ]\n",
            "  [124.82031  118.90234  102.94531 ]\n",
            "  [116.375    114.25781   99.44141 ]\n",
            "  ...\n",
            "  [209.6914   195.6914   168.7539  ]\n",
            "  [201.       186.       163.      ]\n",
            "  [200.82422  185.82422  162.82422 ]]\n",
            "\n",
            " [[137.14062  132.76953  118.22656 ]\n",
            "  [132.       127.3125   112.875   ]\n",
            "  [113.77734  110.59766   98.1875  ]\n",
            "  ...\n",
            "  [200.47266  186.03516  161.34766 ]\n",
            "  [197.8789   182.8789   159.8789  ]\n",
            "  [194.53906  179.53906  156.53906 ]]\n",
            "\n",
            " [[141.03516  138.1875   123.1875  ]\n",
            "  [131.53906  127.52344  112.98047 ]\n",
            "  [117.94922  113.94922  101.94922 ]\n",
            "  ...\n",
            "  [196.23828  182.23828  156.1875  ]\n",
            "  [193.29297  178.29297  155.29297 ]\n",
            "  [189.22266  174.22266  151.22266 ]]], shape=(128, 128, 3), dtype=float32)\n",
            "Label:  tf.Tensor(b'Dog', shape=(), dtype=string)\n",
            "Image:  tf.Tensor(\n",
            "[[[183.9589   177.16983  164.7753  ]\n",
            "  [183.54346  175.22906  163.6578  ]\n",
            "  [182.11218  172.11218  161.32312 ]\n",
            "  ...\n",
            "  [237.05316  217.05316  181.38129 ]\n",
            "  [ 70.67804   58.306     44.293457]\n",
            "  [ 82.231415  67.86423   53.864227]]\n",
            "\n",
            " [[204.57516  194.49799  181.99799 ]\n",
            "  [194.82529  185.19247  174.6417  ]\n",
            "  [198.4375   185.40482  169.77057 ]\n",
            "  ...\n",
            "  [179.2251   163.56104  126.79706 ]\n",
            "  [ 71.61398   58.99893   46.507812]\n",
            "  [140.98956  122.431915 102.8255  ]]\n",
            "\n",
            " [[192.8471   176.4732   158.76254 ]\n",
            "  [184.48541  161.56744  130.0917  ]\n",
            "  [185.05151  162.78705  132.57748 ]\n",
            "  ...\n",
            "  [ 89.28726   71.94235   51.835724]\n",
            "  [ 60.56888   51.343964  40.934418]\n",
            "  [109.81326   92.49295   76.63495 ]]\n",
            "\n",
            " ...\n",
            "\n",
            " [[148.138    137.08331  117.423706]\n",
            "  [ 86.75165   75.724304  55.669617]\n",
            "  [ 86.76425   73.727936  55.39981 ]\n",
            "  ...\n",
            "  [173.04941  169.02206  158.15878 ]\n",
            "  [184.2724   180.85751  171.85751 ]\n",
            "  [104.70868   96.97067   83.572235]]\n",
            "\n",
            " [[ 69.36066   57.685944  42.99347 ]\n",
            "  [ 88.828156  76.66232   56.13568 ]\n",
            "  [103.08203   88.20538   67.57257 ]\n",
            "  ...\n",
            "  [180.98438  177.98438  170.98438 ]\n",
            "  [158.95984  155.77625  147.42682 ]\n",
            "  [157.60535  149.87097  138.47253 ]]\n",
            "\n",
            " [[ 62.8378    54.706604  44.91983 ]\n",
            "  [ 85.813324  73.059296  53.69507 ]\n",
            "  [101.42633   88.22012   66.62219 ]\n",
            "  ...\n",
            "  [196.00116  189.00116  183.00116 ]\n",
            "  [184.90518  181.90518  174.90518 ]\n",
            "  [186.19437  181.3226   171.52963 ]]], shape=(128, 128, 3), dtype=float32)\n",
            "Label:  tf.Tensor(b'Cat', shape=(), dtype=string)\n",
            "Image:  tf.Tensor(\n",
            "[[[234.      247.      240.     ]\n",
            "  [234.      247.      240.     ]\n",
            "  [234.92969 247.92969 240.92969]\n",
            "  ...\n",
            "  [216.92969 229.92969 222.92969]\n",
            "  [215.      228.      221.     ]\n",
            "  [214.99176 227.99176 220.99176]]\n",
            "\n",
            " [[234.      247.      240.     ]\n",
            "  [234.      247.      240.     ]\n",
            "  [233.67328 246.67328 239.67328]\n",
            "  ...\n",
            "  [217.      230.      223.     ]\n",
            "  [216.      229.      222.     ]\n",
            "  [215.      228.      221.     ]]\n",
            "\n",
            " [[232.35156 245.35156 238.35156]\n",
            "  [234.      247.      240.     ]\n",
            "  [233.      246.      239.     ]\n",
            "  ...\n",
            "  [216.85443 229.85443 222.85443]\n",
            "  [216.      229.      222.     ]\n",
            "  [215.68964 228.68964 221.68964]]\n",
            "\n",
            " ...\n",
            "\n",
            " [[181.88281 194.88281 185.88281]\n",
            "  [184.      197.      188.     ]\n",
            "  [183.62006 196.62006 187.62006]\n",
            "  ...\n",
            "  [172.76562 187.52344 176.9375 ]\n",
            "  [170.64844 188.64844 176.64844]\n",
            "  [169.88281 187.88281 175.88281]]\n",
            "\n",
            " [[180.      193.      184.     ]\n",
            "  [181.78906 194.78906 185.78906]\n",
            "  [181.08734 194.08734 185.08734]\n",
            "  ...\n",
            "  [172.41406 187.17188 176.58594]\n",
            "  [170.      188.      176.     ]\n",
            "  [168.88281 186.88281 174.88281]]\n",
            "\n",
            " [[178.93793 191.93793 182.93793]\n",
            "  [180.      193.      184.     ]\n",
            "  [180.58594 193.58594 184.58594]\n",
            "  ...\n",
            "  [172.      185.      175.     ]\n",
            "  [168.      186.      174.     ]\n",
            "  [166.88281 184.88281 172.88281]]], shape=(128, 128, 3), dtype=float32)\n",
            "Label:  tf.Tensor(b'Cat', shape=(), dtype=string)\n"
          ]
        }
      ]
    },
    {
      "cell_type": "code",
      "source": [
        "def scale(image, label):\n",
        "  return image/255.0, label"
      ],
      "metadata": {
        "id": "IZZo625yJcID"
      },
      "execution_count": 34,
      "outputs": []
    },
    {
      "cell_type": "code",
      "source": [
        "train_ds = train_ds.map(scale)\n",
        "\n",
        "for image, label in train_ds.take(3):\n",
        "  print(\"****Image: \", image.numpy()[0][0])\n",
        "  print(\"****Label: \", label.numpy())"
      ],
      "metadata": {
        "colab": {
          "base_uri": "https://localhost:8080/"
        },
        "id": "TvfjemEzJ1Eq",
        "outputId": "051cdddd-3bdd-4a6a-be95-624d4034bec8"
      },
      "execution_count": 36,
      "outputs": [
        {
          "output_type": "stream",
          "name": "stdout",
          "text": [
            "****Image:  [0.91764706 0.96862745 0.9411765 ]\n",
            "****Label:  b'Cat'\n",
            "****Image:  [0.47487745 0.30232844 0.15669423]\n",
            "****Label:  b'Cat'\n",
            "****Image:  [0.39607844 0.35686275 0.2509804 ]\n",
            "****Label:  b'Dog'\n"
          ]
        }
      ]
    },
    {
      "cell_type": "code",
      "source": [],
      "metadata": {
        "id": "LuVB9yK1KigP"
      },
      "execution_count": null,
      "outputs": []
    }
  ]
}