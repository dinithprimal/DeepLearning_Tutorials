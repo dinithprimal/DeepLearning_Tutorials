{
  "nbformat": 4,
  "nbformat_minor": 0,
  "metadata": {
    "colab": {
      "provenance": [],
      "authorship_tag": "ABX9TyPqS3UFrT3LVlUYqwsRlR48",
      "include_colab_link": true
    },
    "kernelspec": {
      "name": "python3",
      "display_name": "Python 3"
    },
    "language_info": {
      "name": "python"
    }
  },
  "cells": [
    {
      "cell_type": "markdown",
      "metadata": {
        "id": "view-in-github",
        "colab_type": "text"
      },
      "source": [
        "<a href=\"https://colab.research.google.com/github/dinithprimal/DeepLearning_Tutorials/blob/main/EX22_BERT.ipynb\" target=\"_parent\"><img src=\"https://colab.research.google.com/assets/colab-badge.svg\" alt=\"Open In Colab\"/></a>"
      ]
    },
    {
      "cell_type": "code",
      "source": [
        "#!pip3 install tensorflow_text"
      ],
      "metadata": {
        "id": "-M1ucoCh4gh-"
      },
      "execution_count": null,
      "outputs": []
    },
    {
      "cell_type": "code",
      "execution_count": 4,
      "metadata": {
        "id": "JzTXGLOQ3rxw"
      },
      "outputs": [],
      "source": [
        "import tensorflow_hub as hub\n",
        "import tensorflow_text as text"
      ]
    },
    {
      "cell_type": "code",
      "source": [
        "preprocess_url = 'https://tfhub.dev/tensorflow/bert_en_uncased_preprocess/3'\n",
        "encoder_url = 'https://tfhub.dev/tensorflow/bert_en_uncased_L-12_H-768_A-12/4'"
      ],
      "metadata": {
        "id": "lHeWm2TQ3_Bz"
      },
      "execution_count": 5,
      "outputs": []
    },
    {
      "cell_type": "code",
      "source": [
        "bert_preprocess_model = hub.KerasLayer(preprocess_url)"
      ],
      "metadata": {
        "id": "wihnA0kK4y2t"
      },
      "execution_count": 6,
      "outputs": []
    },
    {
      "cell_type": "code",
      "source": [
        "text_test = ['nice movie indeed', 'I love Python programming']\n",
        "text_preprocessed = bert_preprocess_model(text_test)\n",
        "text_preprocessed.keys()"
      ],
      "metadata": {
        "colab": {
          "base_uri": "https://localhost:8080/"
        },
        "id": "DqoiH4Xr46oz",
        "outputId": "c2df8fe7-2fa1-4b37-bb7f-1f742c2772db"
      },
      "execution_count": 7,
      "outputs": [
        {
          "output_type": "execute_result",
          "data": {
            "text/plain": [
              "dict_keys(['input_word_ids', 'input_mask', 'input_type_ids'])"
            ]
          },
          "metadata": {},
          "execution_count": 7
        }
      ]
    },
    {
      "cell_type": "code",
      "source": [
        "text_preprocessed['input_mask']"
      ],
      "metadata": {
        "colab": {
          "base_uri": "https://localhost:8080/"
        },
        "id": "9I3xnfak5Vec",
        "outputId": "28a79f13-ddad-4f41-895c-3098e7323592"
      },
      "execution_count": 8,
      "outputs": [
        {
          "output_type": "execute_result",
          "data": {
            "text/plain": [
              "<tf.Tensor: shape=(2, 128), dtype=int32, numpy=\n",
              "array([[1, 1, 1, 1, 1, 0, 0, 0, 0, 0, 0, 0, 0, 0, 0, 0, 0, 0, 0, 0, 0, 0,\n",
              "        0, 0, 0, 0, 0, 0, 0, 0, 0, 0, 0, 0, 0, 0, 0, 0, 0, 0, 0, 0, 0, 0,\n",
              "        0, 0, 0, 0, 0, 0, 0, 0, 0, 0, 0, 0, 0, 0, 0, 0, 0, 0, 0, 0, 0, 0,\n",
              "        0, 0, 0, 0, 0, 0, 0, 0, 0, 0, 0, 0, 0, 0, 0, 0, 0, 0, 0, 0, 0, 0,\n",
              "        0, 0, 0, 0, 0, 0, 0, 0, 0, 0, 0, 0, 0, 0, 0, 0, 0, 0, 0, 0, 0, 0,\n",
              "        0, 0, 0, 0, 0, 0, 0, 0, 0, 0, 0, 0, 0, 0, 0, 0, 0, 0],\n",
              "       [1, 1, 1, 1, 1, 1, 0, 0, 0, 0, 0, 0, 0, 0, 0, 0, 0, 0, 0, 0, 0, 0,\n",
              "        0, 0, 0, 0, 0, 0, 0, 0, 0, 0, 0, 0, 0, 0, 0, 0, 0, 0, 0, 0, 0, 0,\n",
              "        0, 0, 0, 0, 0, 0, 0, 0, 0, 0, 0, 0, 0, 0, 0, 0, 0, 0, 0, 0, 0, 0,\n",
              "        0, 0, 0, 0, 0, 0, 0, 0, 0, 0, 0, 0, 0, 0, 0, 0, 0, 0, 0, 0, 0, 0,\n",
              "        0, 0, 0, 0, 0, 0, 0, 0, 0, 0, 0, 0, 0, 0, 0, 0, 0, 0, 0, 0, 0, 0,\n",
              "        0, 0, 0, 0, 0, 0, 0, 0, 0, 0, 0, 0, 0, 0, 0, 0, 0, 0]],\n",
              "      dtype=int32)>"
            ]
          },
          "metadata": {},
          "execution_count": 8
        }
      ]
    },
    {
      "cell_type": "code",
      "source": [
        "text_preprocessed['input_word_ids']\n",
        "\n",
        "# CLS nice moive indeed SEP\n",
        "# CLS I love Python programming SEP"
      ],
      "metadata": {
        "colab": {
          "base_uri": "https://localhost:8080/"
        },
        "id": "C1RFY5TX5nHd",
        "outputId": "3d227e3c-0daa-44d1-c13c-f728bedc6269"
      },
      "execution_count": 9,
      "outputs": [
        {
          "output_type": "execute_result",
          "data": {
            "text/plain": [
              "<tf.Tensor: shape=(2, 128), dtype=int32, numpy=\n",
              "array([[  101,  3835,  3185,  5262,   102,     0,     0,     0,     0,\n",
              "            0,     0,     0,     0,     0,     0,     0,     0,     0,\n",
              "            0,     0,     0,     0,     0,     0,     0,     0,     0,\n",
              "            0,     0,     0,     0,     0,     0,     0,     0,     0,\n",
              "            0,     0,     0,     0,     0,     0,     0,     0,     0,\n",
              "            0,     0,     0,     0,     0,     0,     0,     0,     0,\n",
              "            0,     0,     0,     0,     0,     0,     0,     0,     0,\n",
              "            0,     0,     0,     0,     0,     0,     0,     0,     0,\n",
              "            0,     0,     0,     0,     0,     0,     0,     0,     0,\n",
              "            0,     0,     0,     0,     0,     0,     0,     0,     0,\n",
              "            0,     0,     0,     0,     0,     0,     0,     0,     0,\n",
              "            0,     0,     0,     0,     0,     0,     0,     0,     0,\n",
              "            0,     0,     0,     0,     0,     0,     0,     0,     0,\n",
              "            0,     0,     0,     0,     0,     0,     0,     0,     0,\n",
              "            0,     0],\n",
              "       [  101,  1045,  2293, 18750,  4730,   102,     0,     0,     0,\n",
              "            0,     0,     0,     0,     0,     0,     0,     0,     0,\n",
              "            0,     0,     0,     0,     0,     0,     0,     0,     0,\n",
              "            0,     0,     0,     0,     0,     0,     0,     0,     0,\n",
              "            0,     0,     0,     0,     0,     0,     0,     0,     0,\n",
              "            0,     0,     0,     0,     0,     0,     0,     0,     0,\n",
              "            0,     0,     0,     0,     0,     0,     0,     0,     0,\n",
              "            0,     0,     0,     0,     0,     0,     0,     0,     0,\n",
              "            0,     0,     0,     0,     0,     0,     0,     0,     0,\n",
              "            0,     0,     0,     0,     0,     0,     0,     0,     0,\n",
              "            0,     0,     0,     0,     0,     0,     0,     0,     0,\n",
              "            0,     0,     0,     0,     0,     0,     0,     0,     0,\n",
              "            0,     0,     0,     0,     0,     0,     0,     0,     0,\n",
              "            0,     0,     0,     0,     0,     0,     0,     0,     0,\n",
              "            0,     0]], dtype=int32)>"
            ]
          },
          "metadata": {},
          "execution_count": 9
        }
      ]
    },
    {
      "cell_type": "code",
      "source": [
        "bert_model = hub.KerasLayer(encoder_url)\n",
        "bert_result = bert_model(text_preprocessed)\n",
        "bert_result.keys()"
      ],
      "metadata": {
        "colab": {
          "base_uri": "https://localhost:8080/"
        },
        "id": "lQrOFen65vPD",
        "outputId": "da9a7c90-5138-4c99-ee72-0594677238a9"
      },
      "execution_count": 12,
      "outputs": [
        {
          "output_type": "execute_result",
          "data": {
            "text/plain": [
              "dict_keys(['encoder_outputs', 'sequence_output', 'default', 'pooled_output'])"
            ]
          },
          "metadata": {},
          "execution_count": 12
        }
      ]
    },
    {
      "cell_type": "code",
      "source": [
        "bert_result['pooled_output']"
      ],
      "metadata": {
        "colab": {
          "base_uri": "https://localhost:8080/"
        },
        "id": "3Oo47JFG6fPg",
        "outputId": "526b53d3-be56-46e9-8a6b-5e297caa6cc7"
      },
      "execution_count": 13,
      "outputs": [
        {
          "output_type": "execute_result",
          "data": {
            "text/plain": [
              "<tf.Tensor: shape=(2, 768), dtype=float32, numpy=\n",
              "array([[-0.7917741 , -0.21411921,  0.49769515, ...,  0.24465193,\n",
              "        -0.47334474,  0.8175871 ],\n",
              "       [-0.91712314, -0.47935188, -0.78656995, ..., -0.61751765,\n",
              "        -0.7102687 ,  0.921843  ]], dtype=float32)>"
            ]
          },
          "metadata": {},
          "execution_count": 13
        }
      ]
    },
    {
      "cell_type": "code",
      "source": [
        "bert_result['sequence_output']"
      ],
      "metadata": {
        "colab": {
          "base_uri": "https://localhost:8080/"
        },
        "id": "7VFeI44M6_Ts",
        "outputId": "840b284a-4f2c-4392-9a86-3fb9000047db"
      },
      "execution_count": 14,
      "outputs": [
        {
          "output_type": "execute_result",
          "data": {
            "text/plain": [
              "<tf.Tensor: shape=(2, 128, 768), dtype=float32, numpy=\n",
              "array([[[ 0.07292046,  0.08567815,  0.14476833, ..., -0.09677089,\n",
              "          0.08722138,  0.07711098],\n",
              "        [ 0.17839392, -0.19006105,  0.50349474, ..., -0.05869799,\n",
              "          0.32717094, -0.15578488],\n",
              "        [ 0.18701468, -0.43388787, -0.48875138, ..., -0.15502772,\n",
              "          0.00145124, -0.24470966],\n",
              "        ...,\n",
              "        [ 0.12083106,  0.12884258,  0.46453524, ...,  0.07375515,\n",
              "          0.17441994,  0.16522008],\n",
              "        [ 0.07967864, -0.01190711,  0.50225407, ...,  0.13777758,\n",
              "          0.21002217,  0.00624588],\n",
              "        [-0.07212694, -0.2830348 ,  0.59033334, ...,  0.47551954,\n",
              "          0.16668473, -0.08920345]],\n",
              "\n",
              "       [[-0.07900596,  0.36335123, -0.2110157 , ..., -0.17183766,\n",
              "          0.1629974 ,  0.6724269 ],\n",
              "        [ 0.27883503,  0.43716323, -0.35764694, ..., -0.0446365 ,\n",
              "          0.3831516 ,  0.5887988 ],\n",
              "        [ 1.203767  ,  1.0727018 ,  0.4840876 , ...,  0.24920997,\n",
              "          0.40730938,  0.404818  ],\n",
              "        ...,\n",
              "        [ 0.08630033,  0.19353835,  0.47540033, ...,  0.18880166,\n",
              "         -0.06474119,  0.3131858 ],\n",
              "        [ 0.1588704 ,  0.2857266 ,  0.37340793, ...,  0.09309113,\n",
              "         -0.0496955 ,  0.38761106],\n",
              "        [-0.08079889, -0.09572859,  0.26809785, ...,  0.13979614,\n",
              "         -0.0631586 ,  0.27288333]]], dtype=float32)>"
            ]
          },
          "metadata": {},
          "execution_count": 14
        }
      ]
    },
    {
      "cell_type": "code",
      "source": [
        "bert_result['encoder_outputs'][-1]"
      ],
      "metadata": {
        "colab": {
          "base_uri": "https://localhost:8080/"
        },
        "id": "7l-JJCAH7H4j",
        "outputId": "0825c6fe-cfc4-41e8-eceb-575add9b36de"
      },
      "execution_count": 16,
      "outputs": [
        {
          "output_type": "execute_result",
          "data": {
            "text/plain": [
              "<tf.Tensor: shape=(2, 128, 768), dtype=float32, numpy=\n",
              "array([[[ 0.07292046,  0.08567815,  0.14476833, ..., -0.09677089,\n",
              "          0.08722138,  0.07711098],\n",
              "        [ 0.17839392, -0.19006105,  0.50349474, ..., -0.05869799,\n",
              "          0.32717094, -0.15578488],\n",
              "        [ 0.18701468, -0.43388787, -0.48875138, ..., -0.15502772,\n",
              "          0.00145124, -0.24470966],\n",
              "        ...,\n",
              "        [ 0.12083106,  0.12884258,  0.46453524, ...,  0.07375515,\n",
              "          0.17441994,  0.16522008],\n",
              "        [ 0.07967864, -0.01190711,  0.50225407, ...,  0.13777758,\n",
              "          0.21002217,  0.00624588],\n",
              "        [-0.07212694, -0.2830348 ,  0.59033334, ...,  0.47551954,\n",
              "          0.16668473, -0.08920345]],\n",
              "\n",
              "       [[-0.07900596,  0.36335123, -0.2110157 , ..., -0.17183766,\n",
              "          0.1629974 ,  0.6724269 ],\n",
              "        [ 0.27883503,  0.43716323, -0.35764694, ..., -0.0446365 ,\n",
              "          0.3831516 ,  0.5887988 ],\n",
              "        [ 1.203767  ,  1.0727018 ,  0.4840876 , ...,  0.24920997,\n",
              "          0.40730938,  0.404818  ],\n",
              "        ...,\n",
              "        [ 0.08630033,  0.19353835,  0.47540033, ...,  0.18880166,\n",
              "         -0.06474119,  0.3131858 ],\n",
              "        [ 0.1588704 ,  0.2857266 ,  0.37340793, ...,  0.09309113,\n",
              "         -0.0496955 ,  0.38761106],\n",
              "        [-0.08079889, -0.09572859,  0.26809785, ...,  0.13979614,\n",
              "         -0.0631586 ,  0.27288333]]], dtype=float32)>"
            ]
          },
          "metadata": {},
          "execution_count": 16
        }
      ]
    },
    {
      "cell_type": "code",
      "source": [],
      "metadata": {
        "id": "9idVMfL57fjS"
      },
      "execution_count": null,
      "outputs": []
    }
  ]
}